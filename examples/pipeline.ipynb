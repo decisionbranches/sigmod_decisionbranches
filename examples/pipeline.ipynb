{
 "cells": [
  {
   "cell_type": "markdown",
   "metadata": {},
   "source": [
    "#"
   ]
  },
  {
   "cell_type": "markdown",
   "metadata": {},
   "source": [
    "[![Open In Colab](https://colab.research.google.com/assets/colab-badge.svg)](https://colab.research.google.com/github/decisionbranches/sigmod_decisionbranches/blob/master/examples/pipeline.ipynb)\n"
   ]
  },
  {
   "cell_type": "markdown",
   "metadata": {},
   "source": [
    "# Download and install Decisionbranches"
   ]
  },
  {
   "cell_type": "code",
   "execution_count": null,
   "metadata": {},
   "outputs": [],
   "source": [
    "!pip install git+https://github.com/decisionbranches/sigmod_decisionbranches.git\n",
    "\n"
   ]
  },
  {
   "cell_type": "code",
   "execution_count": null,
   "metadata": {},
   "outputs": [],
   "source": [
    "import numpy as np\n",
    "from sklearn.datasets import fetch_openml\n",
    "from sklearn.model_selection import train_test_split\n",
    "from sklearn.metrics import f1_score\n",
    "\n",
    "from decisionbranches.utils.helpers import generate_fidxs\n",
    "from decisionbranches.models.boxSearch.boxClassifier import BoxClassifier\n",
    "from py_kdtree.treeset import KDTreeSet"
   ]
  },
  {
   "cell_type": "code",
   "execution_count": null,
   "metadata": {},
   "outputs": [],
   "source": [
    "seed=42\n",
    "np.random.seed(seed)\n",
    "\n",
    "\n",
    "#Parameter\n",
    "nfeat = 10\n",
    "nind = 100\n",
    "dbranch_cfg = {\"top_down\":False,\"max_evals\":\"all\",\"stop_infinite\":True}\n",
    "\n",
    "label = \"4.\""
   ]
  },
  {
   "cell_type": "code",
   "execution_count": null,
   "metadata": {},
   "outputs": [],
   "source": [
    "X, y = fetch_openml('satimage', version=1, return_X_y=True, as_frame=False)\n",
    "\n",
    "y_bin = np.zeros(len(y),dtype=int)\n",
    "y_bin[y==label] = 1\n",
    "\n",
    "X_train,X_test,y_train,y_test = train_test_split(X,y_bin,train_size=0.05,random_state=seed)\n",
    "print(\"Number of rare training objects: \",np.sum(y_train))\n",
    "print(\"Number of points to query: \",len(X_test))"
   ]
  },
  {
   "cell_type": "markdown",
   "metadata": {},
   "source": [
    "# Generate feature subsets"
   ]
  },
  {
   "cell_type": "code",
   "execution_count": null,
   "metadata": {},
   "outputs": [],
   "source": [
    "subsets = generate_fidxs(n_feat=nfeat,n_ind=nind,feats=np.arange(X.shape[1]),seed=seed)\n"
   ]
  },
  {
   "cell_type": "markdown",
   "metadata": {},
   "source": [
    "# Create indexes"
   ]
  },
  {
   "cell_type": "code",
   "execution_count": null,
   "metadata": {},
   "outputs": [],
   "source": [
    "treeset = KDTreeSet(subsets,path=\"./indexes/\",leaf_size=60,verbose=False)\n",
    "treeset.fit(X_test)"
   ]
  },
  {
   "cell_type": "markdown",
   "metadata": {},
   "source": [
    "# DecisionBranch"
   ]
  },
  {
   "cell_type": "code",
   "execution_count": null,
   "metadata": {},
   "outputs": [],
   "source": [
    "dbranch = BoxClassifier(tot_feat=X.shape[1],n_feat=nfeat,n_ind=nind,cfg=dbranch_cfg,postTree=False)\n",
    "\n",
    "dbranch.fit(X_train,y_train)\n",
    "\n",
    "mins,maxs,fidxs = dbranch.get_boxes()\n",
    "preds = dbranch.predict(X_test)\n",
    "print(\"Test F1-score: \",f1_score(y_test, preds))"
   ]
  },
  {
   "cell_type": "markdown",
   "metadata": {},
   "source": [
    "# Query boxes"
   ]
  },
  {
   "cell_type": "code",
   "execution_count": null,
   "metadata": {},
   "outputs": [],
   "source": [
    "inds,counts,time,loaded_leaves = treeset.multi_query_ranked_cy(mins,maxs,fidxs)\n",
    "\n",
    "print(\"Number of found points: \",len(inds))\n",
    "print(\"Loading time: \",time)\n",
    "print(\"Number of loaded leaves: \",loaded_leaves)"
   ]
  }
 ],
 "metadata": {
  "interpreter": {
   "hash": "31f2aee4e71d21fbe5cf8b01ff0e069b9275f58929596ceb00d14d90e3e16cd6"
  },
  "kernelspec": {
   "display_name": "Python 3.8.10 64-bit",
   "language": "python",
   "name": "python3"
  },
  "language_info": {
   "name": "python",
   "version": "3.8.10"
  },
  "orig_nbformat": 4
 },
 "nbformat": 4,
 "nbformat_minor": 2
}
